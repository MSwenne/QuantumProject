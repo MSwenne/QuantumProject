{
 "cells": [
  {
   "cell_type": "code",
   "execution_count": 272,
   "metadata": {},
   "outputs": [],
   "source": [
    "import cirq\n",
    "import numpy as np\n",
    "import random\n",
    "import sympy\n",
    "from math import pi\n",
    "%matplotlib inline\n",
    "\n",
    "np.random.seed(42)"
   ]
  },
  {
   "cell_type": "code",
   "execution_count": 300,
   "metadata": {},
   "outputs": [],
   "source": [
    "def U_phi(q, W):\n",
    "    print(W)\n",
    "    for i in range(len(q)):\n",
    "        rot = cirq.ZPowGate(exponent=W[i])\n",
    "        yield rot(q[i])\n",
    "    for i in range(len(q)):\n",
    "        if i < len(q)-1:\n",
    "            rot = cirq.ZPowGate(exponent=(pi-W[i])*(pi-W[i+1]))\n",
    "            yield rot.on(q[i+1]).controlled_by(q[i])\n",
    "        else:\n",
    "            rot = cirq.ZPowGate(exponent=(pi-W[i])*(pi-W[0]))\n",
    "            yield rot.on(q[i]).controlled_by(q[0])\n",
    "            \n",
    "def fancy_U(q, W):\n",
    "    for i in range(len(q)):\n",
    "        yield cirq.H(q[i])\n",
    "    yield U_phi(q, W)\n",
    "    for i in range(len(q)):\n",
    "        yield cirq.H(q[i])\n",
    "    yield U_phi(q, W)\n",
    "\n",
    "def W_theta(q, theta):\n",
    "    for i in range(len(q)):\n",
    "        rot = cirq.ZPowGate(exponent=theta[i])\n",
    "        yield rot(q[i])\n",
    "    for i in range(len(q)):\n",
    "        if i < len(q)-1:\n",
    "            yield cirq.SWAP.on(q[i+1],q[i])\n",
    "        else:\n",
    "            yield cirq.SWAP.on(q[i],q[0])"
   ]
  },
  {
   "cell_type": "code",
   "execution_count": 297,
   "metadata": {},
   "outputs": [],
   "source": [
    "def circuit(q, W, theta):\n",
    "    yield fancy_U(q, W)\n",
    "    yield W_theta(q, theta)\n",
    "#     measure(q)"
   ]
  },
  {
   "cell_type": "code",
   "execution_count": 301,
   "metadata": {},
   "outputs": [
    {
     "name": "stdout",
     "output_type": "stream",
     "text": [
      "[-0.11564828 -0.3011037  -1.47852199]\n",
      "[-0.11564828 -0.3011037  -1.47852199]\n",
      "Circuit:\n",
      "                                                  ┌─────────┐                                                 ┌────────────────┐\n",
      "(0, 0): ───H───Z^-0.116───@────────────────────────@────────────H──────────Z^-0.116───@────────────────────────@───────────────────Z^-0.116───×───────×───\n",
      "                          │                        │                                  │                        │                              │       │\n",
      "(1, 0): ───H───Z^-0.301───Z^(-11/14)───@───────────┼───────H────Z^-0.301──────────────Z^(-11/14)───@───────────┼───────Z^-0.301───────────────×───×───┼───\n",
      "                                       │           │                                               │           │                                  │   │\n",
      "(2, 0): ───H───Z^0.521─────────────────Z^-0.094────Z^-0.951─────H──────────Z^0.521─────────────────Z^-0.094────Z^-0.951────────────Z^0.521────────×───×───\n",
      "                                                  └─────────┘                                                 └────────────────┘\n"
     ]
    }
   ],
   "source": [
    "nr_qubits = 3\n",
    "num_layers = 1\n",
    "batch_size = 5\n",
    "\n",
    "#Set up input and output qubits.\n",
    "qubits = [cirq.GridQubit(i, 0) for i in range(nr_qubits)]\n",
    "\n",
    "init_rot = np.random.randn(nr_qubits)\n",
    "\n",
    "c = cirq.Circuit()\n",
    "c.append(circuit(qubits, init_rot, init_rot))\n",
    "\n",
    "print('Circuit:')\n",
    "print(c)"
   ]
  },
  {
   "cell_type": "code",
   "execution_count": 226,
   "metadata": {},
   "outputs": [
    {
     "ename": "TypeError",
     "evalue": "'numpy.ndarray' object is not callable",
     "output_type": "error",
     "traceback": [
      "\u001b[0;31m---------------------------------------------------------------------------\u001b[0m",
      "\u001b[0;31mTypeError\u001b[0m                                 Traceback (most recent call last)",
      "\u001b[0;32m<ipython-input-226-173ffcb24715>\u001b[0m in \u001b[0;36m<module>\u001b[0;34m\u001b[0m\n\u001b[1;32m      9\u001b[0m \u001b[0;34m\u001b[0m\u001b[0m\n\u001b[1;32m     10\u001b[0m \u001b[0mcircuit\u001b[0m \u001b[0;34m=\u001b[0m \u001b[0mcirq\u001b[0m\u001b[0;34m.\u001b[0m\u001b[0mCircuit\u001b[0m\u001b[0;34m(\u001b[0m\u001b[0;34m)\u001b[0m\u001b[0;34m\u001b[0m\u001b[0;34m\u001b[0m\u001b[0m\n\u001b[0;32m---> 11\u001b[0;31m \u001b[0mcircuit\u001b[0m\u001b[0;34m.\u001b[0m\u001b[0mappend\u001b[0m\u001b[0;34m(\u001b[0m\u001b[0mrot_x_layer\u001b[0m\u001b[0;34m(\u001b[0m\u001b[0;36m2\u001b[0m\u001b[0;34m,\u001b[0m \u001b[0;36m0.1\u001b[0m\u001b[0;34m)\u001b[0m\u001b[0;34m)\u001b[0m\u001b[0;34m\u001b[0m\u001b[0;34m\u001b[0m\u001b[0m\n\u001b[0m\u001b[1;32m     12\u001b[0m \u001b[0mprint\u001b[0m\u001b[0;34m(\u001b[0m\u001b[0mcircuit\u001b[0m\u001b[0;34m)\u001b[0m\u001b[0;34m\u001b[0m\u001b[0;34m\u001b[0m\u001b[0m\n",
      "\u001b[0;32m~/anaconda3/lib/python3.7/site-packages/cirq/circuits/circuit.py\u001b[0m in \u001b[0;36mappend\u001b[0;34m(self, moment_or_operation_tree, strategy)\u001b[0m\n\u001b[1;32m   1205\u001b[0m             \u001b[0mstrategy\u001b[0m\u001b[0;34m:\u001b[0m \u001b[0mHow\u001b[0m \u001b[0mto\u001b[0m \u001b[0mpick\u001b[0m\u001b[0;34m/\u001b[0m\u001b[0mcreate\u001b[0m \u001b[0mthe\u001b[0m \u001b[0mmoment\u001b[0m \u001b[0mto\u001b[0m \u001b[0mput\u001b[0m \u001b[0moperations\u001b[0m \u001b[0minto\u001b[0m\u001b[0;34m.\u001b[0m\u001b[0;34m\u001b[0m\u001b[0;34m\u001b[0m\u001b[0m\n\u001b[1;32m   1206\u001b[0m         \"\"\"\n\u001b[0;32m-> 1207\u001b[0;31m         \u001b[0mself\u001b[0m\u001b[0;34m.\u001b[0m\u001b[0minsert\u001b[0m\u001b[0;34m(\u001b[0m\u001b[0mlen\u001b[0m\u001b[0;34m(\u001b[0m\u001b[0mself\u001b[0m\u001b[0;34m.\u001b[0m\u001b[0m_moments\u001b[0m\u001b[0;34m)\u001b[0m\u001b[0;34m,\u001b[0m \u001b[0mmoment_or_operation_tree\u001b[0m\u001b[0;34m,\u001b[0m \u001b[0mstrategy\u001b[0m\u001b[0;34m)\u001b[0m\u001b[0;34m\u001b[0m\u001b[0;34m\u001b[0m\u001b[0m\n\u001b[0m\u001b[1;32m   1208\u001b[0m \u001b[0;34m\u001b[0m\u001b[0m\n\u001b[1;32m   1209\u001b[0m     def clear_operations_touching(self,\n",
      "\u001b[0;32m~/anaconda3/lib/python3.7/site-packages/cirq/circuits/circuit.py\u001b[0m in \u001b[0;36minsert\u001b[0;34m(self, index, moment_or_operation_tree, strategy)\u001b[0m\n\u001b[1;32m    888\u001b[0m                                   \u001b[0mself\u001b[0m\u001b[0;34m.\u001b[0m\u001b[0m_device\u001b[0m\u001b[0;34m.\u001b[0m\u001b[0mdecompose_operation\u001b[0m\u001b[0;34m,\u001b[0m\u001b[0;34m\u001b[0m\u001b[0;34m\u001b[0m\u001b[0m\n\u001b[1;32m    889\u001b[0m                                   preserve_moments=True),\n\u001b[0;32m--> 890\u001b[0;31m             preserve_moments=True))\n\u001b[0m\u001b[1;32m    891\u001b[0m \u001b[0;34m\u001b[0m\u001b[0m\n\u001b[1;32m    892\u001b[0m         \u001b[0;32mfor\u001b[0m \u001b[0mmoment_or_op\u001b[0m \u001b[0;32min\u001b[0m \u001b[0mmoments_and_operations\u001b[0m\u001b[0;34m:\u001b[0m\u001b[0;34m\u001b[0m\u001b[0;34m\u001b[0m\u001b[0m\n",
      "\u001b[0;32m~/anaconda3/lib/python3.7/site-packages/cirq/ops/op_tree.py\u001b[0m in \u001b[0;36mflatten_op_tree\u001b[0;34m(root, preserve_moments)\u001b[0m\n\u001b[1;32m     68\u001b[0m \u001b[0;34m\u001b[0m\u001b[0m\n\u001b[1;32m     69\u001b[0m     \u001b[0;32mif\u001b[0m \u001b[0misinstance\u001b[0m\u001b[0;34m(\u001b[0m\u001b[0mroot\u001b[0m\u001b[0;34m,\u001b[0m \u001b[0mcollections\u001b[0m\u001b[0;34m.\u001b[0m\u001b[0mIterable\u001b[0m\u001b[0;34m)\u001b[0m\u001b[0;34m:\u001b[0m\u001b[0;34m\u001b[0m\u001b[0;34m\u001b[0m\u001b[0m\n\u001b[0;32m---> 70\u001b[0;31m         \u001b[0;32mfor\u001b[0m \u001b[0msubtree\u001b[0m \u001b[0;32min\u001b[0m \u001b[0mroot\u001b[0m\u001b[0;34m:\u001b[0m\u001b[0;34m\u001b[0m\u001b[0;34m\u001b[0m\u001b[0m\n\u001b[0m\u001b[1;32m     71\u001b[0m             \u001b[0;32mfor\u001b[0m \u001b[0mitem\u001b[0m \u001b[0;32min\u001b[0m \u001b[0mflatten_op_tree\u001b[0m\u001b[0;34m(\u001b[0m\u001b[0msubtree\u001b[0m\u001b[0;34m,\u001b[0m \u001b[0mpreserve_moments\u001b[0m\u001b[0;34m)\u001b[0m\u001b[0;34m:\u001b[0m\u001b[0;34m\u001b[0m\u001b[0;34m\u001b[0m\u001b[0m\n\u001b[1;32m     72\u001b[0m                 \u001b[0;32myield\u001b[0m \u001b[0mitem\u001b[0m\u001b[0;34m\u001b[0m\u001b[0;34m\u001b[0m\u001b[0m\n",
      "\u001b[0;32m~/anaconda3/lib/python3.7/site-packages/cirq/ops/op_tree.py\u001b[0m in \u001b[0;36m<genexpr>\u001b[0;34m(.0)\u001b[0m\n\u001b[1;32m    108\u001b[0m     \u001b[0;32mif\u001b[0m \u001b[0misinstance\u001b[0m\u001b[0;34m(\u001b[0m\u001b[0mroot\u001b[0m\u001b[0;34m,\u001b[0m \u001b[0mcollections\u001b[0m\u001b[0;34m.\u001b[0m\u001b[0mIterable\u001b[0m\u001b[0;34m)\u001b[0m\u001b[0;34m:\u001b[0m\u001b[0;34m\u001b[0m\u001b[0;34m\u001b[0m\u001b[0m\n\u001b[1;32m    109\u001b[0m         return iter_transformation(\n\u001b[0;32m--> 110\u001b[0;31m             transform_op_tree(subtree,\n\u001b[0m\u001b[1;32m    111\u001b[0m                               \u001b[0mop_transformation\u001b[0m\u001b[0;34m,\u001b[0m\u001b[0;34m\u001b[0m\u001b[0;34m\u001b[0m\u001b[0m\n\u001b[1;32m    112\u001b[0m                               \u001b[0miter_transformation\u001b[0m\u001b[0;34m,\u001b[0m\u001b[0;34m\u001b[0m\u001b[0;34m\u001b[0m\u001b[0m\n",
      "\u001b[0;32m<ipython-input-226-173ffcb24715>\u001b[0m in \u001b[0;36mrot_x_layer\u001b[0;34m(length, half_turns)\u001b[0m\n\u001b[1;32m      6\u001b[0m     \u001b[0;32mfor\u001b[0m \u001b[0mi\u001b[0m \u001b[0;32min\u001b[0m \u001b[0mrange\u001b[0m\u001b[0;34m(\u001b[0m\u001b[0mlength\u001b[0m\u001b[0;34m)\u001b[0m\u001b[0;34m:\u001b[0m\u001b[0;34m\u001b[0m\u001b[0;34m\u001b[0m\u001b[0m\n\u001b[1;32m      7\u001b[0m         \u001b[0;32mfor\u001b[0m \u001b[0mj\u001b[0m \u001b[0;32min\u001b[0m \u001b[0mrange\u001b[0m\u001b[0;34m(\u001b[0m\u001b[0mlength\u001b[0m\u001b[0;34m)\u001b[0m\u001b[0;34m:\u001b[0m\u001b[0;34m\u001b[0m\u001b[0;34m\u001b[0m\u001b[0m\n\u001b[0;32m----> 8\u001b[0;31m             \u001b[0;32myield\u001b[0m \u001b[0mrot\u001b[0m\u001b[0;34m(\u001b[0m\u001b[0mcirq\u001b[0m\u001b[0;34m.\u001b[0m\u001b[0mGridQubit\u001b[0m\u001b[0;34m(\u001b[0m\u001b[0mi\u001b[0m\u001b[0;34m,\u001b[0m \u001b[0mj\u001b[0m\u001b[0;34m)\u001b[0m\u001b[0;34m)\u001b[0m\u001b[0;34m\u001b[0m\u001b[0;34m\u001b[0m\u001b[0m\n\u001b[0m\u001b[1;32m      9\u001b[0m \u001b[0;34m\u001b[0m\u001b[0m\n\u001b[1;32m     10\u001b[0m \u001b[0mcircuit\u001b[0m \u001b[0;34m=\u001b[0m \u001b[0mcirq\u001b[0m\u001b[0;34m.\u001b[0m\u001b[0mCircuit\u001b[0m\u001b[0;34m(\u001b[0m\u001b[0;34m)\u001b[0m\u001b[0;34m\u001b[0m\u001b[0;34m\u001b[0m\u001b[0m\n",
      "\u001b[0;31mTypeError\u001b[0m: 'numpy.ndarray' object is not callable"
     ]
    }
   ],
   "source": [
    "def rot_x_layer(length, half_turns):\n",
    "    \"\"\"Yields X rotations by half_turns on a square grid of given length.\"\"\"\n",
    "    rot1 = cirq.ZPowGate(exponent=half_turns)\n",
    "    rot2 = cirq.XPowGate(exponent=half_turns)\n",
    "    rot3 = cirq.ZPowGate(exponent=half_turns)\n",
    "    for i in range(length):\n",
    "        for j in range(length):\n",
    "            yield rot(cirq.GridQubit(i, j))\n",
    "\n",
    "circuit = cirq.Circuit()\n",
    "circuit.append(rot_x_layer(2, 0.1))\n",
    "print(circuit)"
   ]
  },
  {
   "cell_type": "code",
   "execution_count": 25,
   "metadata": {},
   "outputs": [
    {
     "name": "stdout",
     "output_type": "stream",
     "text": [
      "transverse fields: [[1, 1, -1], [1, 1, 1], [1, -1, -1]]\n",
      "row j fields: [[1, -1, -1], [-1, -1, -1]]\n",
      "column j fields: [[1, 1], [1, -1], [1, 1]]\n"
     ]
    }
   ],
   "source": [
    "def rand2d(rows, cols):\n",
    "    return [[random.choice([+1, -1]) for _ in range(cols)] for _ in range(rows)]\n",
    "\n",
    "def random_instance(length):\n",
    "    # transverse field terms\n",
    "    h = rand2d(length, length)\n",
    "    # links within a row\n",
    "    jr = rand2d(length - 1, length)\n",
    "    # links within a column\n",
    "    jc = rand2d(length, length - 1)\n",
    "    return (h, jr, jc)\n",
    "\n",
    "h, jr, jc = random_instance(3)\n",
    "print('transverse fields: {}'.format(h))\n",
    "print('row j fields: {}'.format(jr))\n",
    "print('column j fields: {}'.format(jc))"
   ]
  },
  {
   "cell_type": "code",
   "execution_count": 26,
   "metadata": {},
   "outputs": [],
   "source": [
    "def rot_z_layer(h, half_turns):\n",
    "    \"\"\"Yields Z rotations by half_turns conditioned on the field h.\"\"\"\n",
    "    gate = cirq.ZPowGate(exponent=half_turns)\n",
    "    for i, h_row in enumerate(h):\n",
    "        for j, h_ij in enumerate(h_row):\n",
    "            if h_ij == 1:\n",
    "                yield gate(cirq.GridQubit(i, j))\n",
    "\n",
    "def rot_11_layer(jr, jc, half_turns):\n",
    "    \"\"\"Yields rotations about |11> conditioned on the jr and jc fields.\"\"\"\n",
    "    gate = cirq.CZPowGate(exponent=half_turns)    \n",
    "    for i, jr_row in enumerate(jr):\n",
    "        for j, jr_ij in enumerate(jr_row):\n",
    "            if jr_ij == -1:\n",
    "                yield cirq.X(cirq.GridQubit(i, j))\n",
    "                yield cirq.X(cirq.GridQubit(i + 1, j))\n",
    "            yield gate(cirq.GridQubit(i, j),\n",
    "                       cirq.GridQubit(i + 1, j))\n",
    "            if jr_ij == -1:\n",
    "                yield cirq.X(cirq.GridQubit(i, j))\n",
    "                yield cirq.X(cirq.GridQubit(i + 1, j))\n",
    "\n",
    "    for i, jc_row in enumerate(jc):\n",
    "        for j, jc_ij in enumerate(jc_row):\n",
    "            if jc_ij == -1:\n",
    "                yield cirq.X(cirq.GridQubit(i, j))\n",
    "                yield cirq.X(cirq.GridQubit(i, j + 1))\n",
    "            yield gate(cirq.GridQubit(i, j),\n",
    "                       cirq.GridQubit(i, j + 1))\n",
    "            if jc_ij == -1:\n",
    "                yield cirq.X(cirq.GridQubit(i, j))\n",
    "                yield cirq.X(cirq.GridQubit(i, j + 1))\n",
    "                \n",
    "def one_step(h, jr, jc, x_half_turns, h_half_turns, j_half_turns):\n",
    "    length = len(h)\n",
    "    yield rot_x_layer(length, x_half_turns)\n",
    "    yield rot_z_layer(h, h_half_turns)\n",
    "    yield rot_11_layer(jr, jc, j_half_turns)"
   ]
  },
  {
   "cell_type": "code",
   "execution_count": 27,
   "metadata": {},
   "outputs": [
    {
     "name": "stdout",
     "output_type": "stream",
     "text": [
      "                           ┌──────┐   ┌───────────┐               ┌───────────┐\n",
      "(0, 0): ───X^0.1───X───────────────────@──────────────X───────X────@──────────────X───────────────────────────────────────────\n",
      "                                       │                           │\n",
      "(0, 1): ───X^0.1───Z^0.2────X──────────┼────@─────────X───────X────@^0.3──────────X───X───────@───────X───────────────────────\n",
      "                                       │    │                                                 │\n",
      "(0, 2): ───X^0.1───Z^0.2─────@─────────┼────┼────X────────────────────────────────────────────@^0.3───X───────────────────────\n",
      "                             │         │    │\n",
      "(1, 0): ───X^0.1───Z^0.2────X┼─────────@^0.3┼─────────X───────X────@──────────────X───@───────────────────────────────────────\n",
      "                             │              │                      │                  │\n",
      "(1, 1): ───X^0.1───Z^0.2────X┼──────────────@^0.3─────X───────X────┼────@─────────X───@^0.3───X───────@───────X───────────────\n",
      "                             │                                     │    │                             │\n",
      "(1, 2): ───X^0.1─────────────@^0.3─────X──────────────@───────X────┼────┼────X────────────────────────@^0.3───X───────────────\n",
      "                                                      │            │    │\n",
      "(2, 0): ───X^0.1───X──────────────────────────────────┼────────────@^0.3┼─────────X───X───────@───────X───────────────────────\n",
      "                                                      │                 │                     │\n",
      "(2, 1): ───X^0.1───X──────────────────────────────────┼─────────────────@^0.3─────X───X───────@^0.3───X───────X───@───────X───\n",
      "                                                      │                                                           │\n",
      "(2, 2): ───X^0.1───Z^0.2────X─────────────────────────@^0.3───X────X──────────────────────────────────────────────@^0.3───X───\n",
      "                           └──────┘   └───────────┘               └───────────┘\n"
     ]
    }
   ],
   "source": [
    "h, jr, jc = random_instance(3)\n",
    "\n",
    "circuit = cirq.Circuit()    \n",
    "circuit.append(one_step(h, jr, jc, 0.1, 0.2, 0.3),\n",
    "               strategy=cirq.InsertStrategy.EARLIEST)\n",
    "print(circuit)"
   ]
  },
  {
   "cell_type": "code",
   "execution_count": 28,
   "metadata": {},
   "outputs": [
    {
     "name": "stdout",
     "output_type": "stream",
     "text": [
      "Counter({0: 78, 128: 4, 8: 4, 2: 3, 32: 3, 16: 2, 34: 2, 6: 1, 256: 1, 64: 1, 129: 1})\n"
     ]
    }
   ],
   "source": [
    "simulator = cirq.Simulator()\n",
    "circuit = cirq.Circuit()    \n",
    "circuit.append(one_step(h, jr, jc, 0.1, 0.2, 0.3))\n",
    "circuit.append(cirq.measure(*qubits, key='x'))\n",
    "results = simulator.run(circuit, repetitions=100)\n",
    "print(results.histogram(key='x'))"
   ]
  },
  {
   "cell_type": "code",
   "execution_count": 29,
   "metadata": {},
   "outputs": [
    {
     "name": "stdout",
     "output_type": "stream",
     "text": [
      "Counter({-7: 81, -3: 8, 1: 5, -1: 2, -5: 2, 3: 1, -9: 1})\n"
     ]
    }
   ],
   "source": [
    "\n",
    "def energy_func(length, h, jr, jc):\n",
    "    def energy(measurements):\n",
    "        # Reshape measurement into array that matches grid shape.\n",
    "        meas_list_of_lists = [measurements[i * length:(i + 1) * length]\n",
    "                              for i in range(length)]\n",
    "        # Convert true/false to +1/-1.\n",
    "        pm_meas = 1 - 2 * np.array(meas_list_of_lists).astype(np.int32)\n",
    "\n",
    "        tot_energy = np.sum(pm_meas * h)\n",
    "        for i, jr_row in enumerate(jr):\n",
    "            for j, jr_ij in enumerate(jr_row):\n",
    "                tot_energy += jr_ij * pm_meas[i, j] * pm_meas[i + 1, j]\n",
    "        for i, jc_row in enumerate(jc):\n",
    "            for j, jc_ij in enumerate(jc_row):\n",
    "                tot_energy += jc_ij * pm_meas[i, j] * pm_meas[i, j + 1]\n",
    "        return tot_energy\n",
    "    return energy\n",
    "print(results.histogram(key='x', fold_func=energy_func(3, h, jr, jc)))"
   ]
  },
  {
   "cell_type": "code",
   "execution_count": 31,
   "metadata": {},
   "outputs": [
    {
     "name": "stdout",
     "output_type": "stream",
     "text": [
      "Value of the objective function -6.04\n"
     ]
    }
   ],
   "source": [
    "def obj_func(result):\n",
    "    energy_hist = result.histogram(key='x', fold_func=energy_func(3, h, jr, jc))\n",
    "    return np.sum([k * v for k,v in energy_hist.items()]) / result.repetitions\n",
    "print('Value of the objective function {}'.format(obj_func(results)))\n"
   ]
  },
  {
   "cell_type": "code",
   "execution_count": 35,
   "metadata": {
    "collapsed": true
   },
   "outputs": [
    {
     "name": "stdout",
     "output_type": "stream",
     "text": [
      "                              ┌────────┐   ┌───────────────┐                 ┌───────────────┐\n",
      "(0, 0): ───X^alpha───X──────────────────────@──────────────────X─────────X────@──────────────────X───────────────────────────────────────────────────M('x')───\n",
      "                                            │                                 │                                                                      │\n",
      "(0, 1): ───X^alpha───Z^beta────X────────────┼──────@───────────X─────────X────@^gamma────────────X───X─────────@─────────X───────────────────────────M────────\n",
      "                                            │      │                                                           │                                     │\n",
      "(0, 2): ───X^alpha───Z^beta─────@───────────┼──────┼──────X────────────────────────────────────────────────────@^gamma───X───────────────────────────M────────\n",
      "                                │           │      │                                                                                                 │\n",
      "(1, 0): ───X^alpha───Z^beta────X┼───────────@^gamma┼───────────X─────────X────@──────────────────X───@───────────────────────────────────────────────M────────\n",
      "                                │                  │                          │                      │                                               │\n",
      "(1, 1): ───X^alpha───Z^beta────X┼──────────────────@^gamma─────X─────────X────┼──────@───────────X───@^gamma───X─────────@─────────X─────────────────M────────\n",
      "                                │                                             │      │                                   │                           │\n",
      "(1, 2): ───X^alpha──────────────@^gamma─────X──────────────────@─────────X────┼──────┼──────X────────────────────────────@^gamma───X─────────────────M────────\n",
      "                                                               │              │      │                                                               │\n",
      "(2, 0): ───X^alpha───X─────────────────────────────────────────┼──────────────@^gamma┼───────────X───X─────────@─────────X───────────────────────────M────────\n",
      "                                                               │                     │                         │                                     │\n",
      "(2, 1): ───X^alpha───X─────────────────────────────────────────┼─────────────────────@^gamma─────X───X─────────@^gamma───X─────────X───@─────────X───M────────\n",
      "                                                               │                                                                       │             │\n",
      "(2, 2): ───X^alpha───Z^beta────X───────────────────────────────@^gamma───X────X────────────────────────────────────────────────────────@^gamma───X───M────────\n",
      "                              └────────┘   └───────────────┘                 └───────────────┘\n"
     ]
    }
   ],
   "source": [
    "circuit = cirq.Circuit()\n",
    "alpha = sympy.Symbol('alpha')\n",
    "beta = sympy.Symbol('beta')\n",
    "gamma = sympy.Symbol('gamma')\n",
    "circuit.append(one_step(h, jr, jc, alpha, beta, gamma))\n",
    "circuit.append(cirq.measure(*qubits, key='x'))\n",
    "print(circuit)"
   ]
  },
  {
   "cell_type": "code",
   "execution_count": 38,
   "metadata": {},
   "outputs": [
    {
     "name": "stdout",
     "output_type": "stream",
     "text": [
      "OrderedDict([('alpha', 0.1), ('beta', 0.1), ('gamma', 0.1)]) -6.3\n",
      "OrderedDict([('alpha', 0.1), ('beta', 0.1), ('gamma', 0.30000000000000004)]) -6.12\n",
      "OrderedDict([('alpha', 0.1), ('beta', 0.1), ('gamma', 0.5)]) -6.08\n",
      "OrderedDict([('alpha', 0.1), ('beta', 0.1), ('gamma', 0.7000000000000001)]) -6.42\n",
      "OrderedDict([('alpha', 0.1), ('beta', 0.1), ('gamma', 0.9)]) -6.6\n",
      "OrderedDict([('alpha', 0.1), ('beta', 0.30000000000000004), ('gamma', 0.1)]) -6.24\n",
      "OrderedDict([('alpha', 0.1), ('beta', 0.30000000000000004), ('gamma', 0.30000000000000004)]) -6.22\n",
      "OrderedDict([('alpha', 0.1), ('beta', 0.30000000000000004), ('gamma', 0.5)]) -6.36\n",
      "OrderedDict([('alpha', 0.1), ('beta', 0.30000000000000004), ('gamma', 0.7000000000000001)]) -6.26\n",
      "OrderedDict([('alpha', 0.1), ('beta', 0.30000000000000004), ('gamma', 0.9)]) -6.32\n",
      "OrderedDict([('alpha', 0.1), ('beta', 0.5), ('gamma', 0.1)]) -6.08\n",
      "OrderedDict([('alpha', 0.1), ('beta', 0.5), ('gamma', 0.30000000000000004)]) -6.04\n",
      "OrderedDict([('alpha', 0.1), ('beta', 0.5), ('gamma', 0.5)]) -6.5\n",
      "OrderedDict([('alpha', 0.1), ('beta', 0.5), ('gamma', 0.7000000000000001)]) -6.24\n",
      "OrderedDict([('alpha', 0.1), ('beta', 0.5), ('gamma', 0.9)]) -5.92\n",
      "OrderedDict([('alpha', 0.1), ('beta', 0.7000000000000001), ('gamma', 0.1)]) -6.32\n",
      "OrderedDict([('alpha', 0.1), ('beta', 0.7000000000000001), ('gamma', 0.30000000000000004)]) -6.34\n",
      "OrderedDict([('alpha', 0.1), ('beta', 0.7000000000000001), ('gamma', 0.5)]) -6.2\n",
      "OrderedDict([('alpha', 0.1), ('beta', 0.7000000000000001), ('gamma', 0.7000000000000001)]) -6.52\n",
      "OrderedDict([('alpha', 0.1), ('beta', 0.7000000000000001), ('gamma', 0.9)]) -6.4\n",
      "OrderedDict([('alpha', 0.1), ('beta', 0.9), ('gamma', 0.1)]) -6.3\n",
      "OrderedDict([('alpha', 0.1), ('beta', 0.9), ('gamma', 0.30000000000000004)]) -6.36\n",
      "OrderedDict([('alpha', 0.1), ('beta', 0.9), ('gamma', 0.5)]) -6.36\n",
      "OrderedDict([('alpha', 0.1), ('beta', 0.9), ('gamma', 0.7000000000000001)]) -6.34\n",
      "OrderedDict([('alpha', 0.1), ('beta', 0.9), ('gamma', 0.9)]) -6.18\n",
      "OrderedDict([('alpha', 0.30000000000000004), ('beta', 0.1), ('gamma', 0.1)]) -2.06\n",
      "OrderedDict([('alpha', 0.30000000000000004), ('beta', 0.1), ('gamma', 0.30000000000000004)]) -2.5\n",
      "OrderedDict([('alpha', 0.30000000000000004), ('beta', 0.1), ('gamma', 0.5)]) -2.32\n",
      "OrderedDict([('alpha', 0.30000000000000004), ('beta', 0.1), ('gamma', 0.7000000000000001)]) -1.5\n",
      "OrderedDict([('alpha', 0.30000000000000004), ('beta', 0.1), ('gamma', 0.9)]) -1.84\n",
      "OrderedDict([('alpha', 0.30000000000000004), ('beta', 0.30000000000000004), ('gamma', 0.1)]) -2.26\n",
      "OrderedDict([('alpha', 0.30000000000000004), ('beta', 0.30000000000000004), ('gamma', 0.30000000000000004)]) -2.52\n",
      "OrderedDict([('alpha', 0.30000000000000004), ('beta', 0.30000000000000004), ('gamma', 0.5)]) -2.44\n",
      "OrderedDict([('alpha', 0.30000000000000004), ('beta', 0.30000000000000004), ('gamma', 0.7000000000000001)]) -1.88\n",
      "OrderedDict([('alpha', 0.30000000000000004), ('beta', 0.30000000000000004), ('gamma', 0.9)]) -2.52\n",
      "OrderedDict([('alpha', 0.30000000000000004), ('beta', 0.5), ('gamma', 0.1)]) -1.9\n",
      "OrderedDict([('alpha', 0.30000000000000004), ('beta', 0.5), ('gamma', 0.30000000000000004)]) -2.74\n",
      "OrderedDict([('alpha', 0.30000000000000004), ('beta', 0.5), ('gamma', 0.5)]) -1.66\n",
      "OrderedDict([('alpha', 0.30000000000000004), ('beta', 0.5), ('gamma', 0.7000000000000001)]) -3.1\n",
      "OrderedDict([('alpha', 0.30000000000000004), ('beta', 0.5), ('gamma', 0.9)]) -2.78\n",
      "OrderedDict([('alpha', 0.30000000000000004), ('beta', 0.7000000000000001), ('gamma', 0.1)]) -3.04\n",
      "OrderedDict([('alpha', 0.30000000000000004), ('beta', 0.7000000000000001), ('gamma', 0.30000000000000004)]) -2.2\n",
      "OrderedDict([('alpha', 0.30000000000000004), ('beta', 0.7000000000000001), ('gamma', 0.5)]) -2.44\n",
      "OrderedDict([('alpha', 0.30000000000000004), ('beta', 0.7000000000000001), ('gamma', 0.7000000000000001)]) -2.04\n",
      "OrderedDict([('alpha', 0.30000000000000004), ('beta', 0.7000000000000001), ('gamma', 0.9)]) -2.1\n",
      "OrderedDict([('alpha', 0.30000000000000004), ('beta', 0.9), ('gamma', 0.1)]) -1.96\n",
      "OrderedDict([('alpha', 0.30000000000000004), ('beta', 0.9), ('gamma', 0.30000000000000004)]) -2.32\n",
      "OrderedDict([('alpha', 0.30000000000000004), ('beta', 0.9), ('gamma', 0.5)]) -1.6\n",
      "OrderedDict([('alpha', 0.30000000000000004), ('beta', 0.9), ('gamma', 0.7000000000000001)]) -2.22\n",
      "OrderedDict([('alpha', 0.30000000000000004), ('beta', 0.9), ('gamma', 0.9)]) -3.0\n",
      "OrderedDict([('alpha', 0.5), ('beta', 0.1), ('gamma', 0.1)]) 0.18\n",
      "OrderedDict([('alpha', 0.5), ('beta', 0.1), ('gamma', 0.30000000000000004)]) -0.22\n",
      "OrderedDict([('alpha', 0.5), ('beta', 0.1), ('gamma', 0.5)]) 0.66\n",
      "OrderedDict([('alpha', 0.5), ('beta', 0.1), ('gamma', 0.7000000000000001)]) -0.26\n",
      "OrderedDict([('alpha', 0.5), ('beta', 0.1), ('gamma', 0.9)]) 0.9\n",
      "OrderedDict([('alpha', 0.5), ('beta', 0.30000000000000004), ('gamma', 0.1)]) -0.04\n",
      "OrderedDict([('alpha', 0.5), ('beta', 0.30000000000000004), ('gamma', 0.30000000000000004)]) 0.18\n",
      "OrderedDict([('alpha', 0.5), ('beta', 0.30000000000000004), ('gamma', 0.5)]) 0.4\n",
      "OrderedDict([('alpha', 0.5), ('beta', 0.30000000000000004), ('gamma', 0.7000000000000001)]) -0.2\n",
      "OrderedDict([('alpha', 0.5), ('beta', 0.30000000000000004), ('gamma', 0.9)]) 0.16\n",
      "OrderedDict([('alpha', 0.5), ('beta', 0.5), ('gamma', 0.1)]) 0.02\n",
      "OrderedDict([('alpha', 0.5), ('beta', 0.5), ('gamma', 0.30000000000000004)]) -0.5\n",
      "OrderedDict([('alpha', 0.5), ('beta', 0.5), ('gamma', 0.5)]) 0.46\n",
      "OrderedDict([('alpha', 0.5), ('beta', 0.5), ('gamma', 0.7000000000000001)]) -0.5\n",
      "OrderedDict([('alpha', 0.5), ('beta', 0.5), ('gamma', 0.9)]) -0.06\n",
      "OrderedDict([('alpha', 0.5), ('beta', 0.7000000000000001), ('gamma', 0.1)]) 0.04\n",
      "OrderedDict([('alpha', 0.5), ('beta', 0.7000000000000001), ('gamma', 0.30000000000000004)]) 0.78\n",
      "OrderedDict([('alpha', 0.5), ('beta', 0.7000000000000001), ('gamma', 0.5)]) -0.96\n",
      "OrderedDict([('alpha', 0.5), ('beta', 0.7000000000000001), ('gamma', 0.7000000000000001)]) 0.56\n",
      "OrderedDict([('alpha', 0.5), ('beta', 0.7000000000000001), ('gamma', 0.9)]) 0.24\n",
      "OrderedDict([('alpha', 0.5), ('beta', 0.9), ('gamma', 0.1)]) -0.02\n",
      "OrderedDict([('alpha', 0.5), ('beta', 0.9), ('gamma', 0.30000000000000004)]) 0.78\n",
      "OrderedDict([('alpha', 0.5), ('beta', 0.9), ('gamma', 0.5)]) -0.24\n",
      "OrderedDict([('alpha', 0.5), ('beta', 0.9), ('gamma', 0.7000000000000001)]) 0.32\n",
      "OrderedDict([('alpha', 0.5), ('beta', 0.9), ('gamma', 0.9)]) -0.36\n",
      "OrderedDict([('alpha', 0.7000000000000001), ('beta', 0.1), ('gamma', 0.1)]) -3.38\n",
      "OrderedDict([('alpha', 0.7000000000000001), ('beta', 0.1), ('gamma', 0.30000000000000004)]) -3.62\n",
      "OrderedDict([('alpha', 0.7000000000000001), ('beta', 0.1), ('gamma', 0.5)]) -3.08\n",
      "OrderedDict([('alpha', 0.7000000000000001), ('beta', 0.1), ('gamma', 0.7000000000000001)]) -2.96\n",
      "OrderedDict([('alpha', 0.7000000000000001), ('beta', 0.1), ('gamma', 0.9)]) -3.12\n",
      "OrderedDict([('alpha', 0.7000000000000001), ('beta', 0.30000000000000004), ('gamma', 0.1)]) -3.8\n",
      "OrderedDict([('alpha', 0.7000000000000001), ('beta', 0.30000000000000004), ('gamma', 0.30000000000000004)]) -2.88\n",
      "OrderedDict([('alpha', 0.7000000000000001), ('beta', 0.30000000000000004), ('gamma', 0.5)]) -3.58\n",
      "OrderedDict([('alpha', 0.7000000000000001), ('beta', 0.30000000000000004), ('gamma', 0.7000000000000001)]) -3.66\n",
      "OrderedDict([('alpha', 0.7000000000000001), ('beta', 0.30000000000000004), ('gamma', 0.9)]) -3.58\n",
      "OrderedDict([('alpha', 0.7000000000000001), ('beta', 0.5), ('gamma', 0.1)]) -2.98\n",
      "OrderedDict([('alpha', 0.7000000000000001), ('beta', 0.5), ('gamma', 0.30000000000000004)]) -2.78\n",
      "OrderedDict([('alpha', 0.7000000000000001), ('beta', 0.5), ('gamma', 0.5)]) -2.36\n",
      "OrderedDict([('alpha', 0.7000000000000001), ('beta', 0.5), ('gamma', 0.7000000000000001)]) -2.44\n",
      "OrderedDict([('alpha', 0.7000000000000001), ('beta', 0.5), ('gamma', 0.9)]) -3.34\n",
      "OrderedDict([('alpha', 0.7000000000000001), ('beta', 0.7000000000000001), ('gamma', 0.1)]) -2.66\n",
      "OrderedDict([('alpha', 0.7000000000000001), ('beta', 0.7000000000000001), ('gamma', 0.30000000000000004)]) -2.82\n",
      "OrderedDict([('alpha', 0.7000000000000001), ('beta', 0.7000000000000001), ('gamma', 0.5)]) -2.88\n",
      "OrderedDict([('alpha', 0.7000000000000001), ('beta', 0.7000000000000001), ('gamma', 0.7000000000000001)]) -2.62\n",
      "OrderedDict([('alpha', 0.7000000000000001), ('beta', 0.7000000000000001), ('gamma', 0.9)]) -3.94\n",
      "OrderedDict([('alpha', 0.7000000000000001), ('beta', 0.9), ('gamma', 0.1)]) -3.46\n",
      "OrderedDict([('alpha', 0.7000000000000001), ('beta', 0.9), ('gamma', 0.30000000000000004)]) -2.7\n",
      "OrderedDict([('alpha', 0.7000000000000001), ('beta', 0.9), ('gamma', 0.5)]) -3.6\n",
      "OrderedDict([('alpha', 0.7000000000000001), ('beta', 0.9), ('gamma', 0.7000000000000001)]) -3.22\n",
      "OrderedDict([('alpha', 0.7000000000000001), ('beta', 0.9), ('gamma', 0.9)]) -3.38\n",
      "OrderedDict([('alpha', 0.9), ('beta', 0.1), ('gamma', 0.1)]) -8.48\n",
      "OrderedDict([('alpha', 0.9), ('beta', 0.1), ('gamma', 0.30000000000000004)]) -7.62\n",
      "OrderedDict([('alpha', 0.9), ('beta', 0.1), ('gamma', 0.5)]) -8.36\n",
      "OrderedDict([('alpha', 0.9), ('beta', 0.1), ('gamma', 0.7000000000000001)]) -8.22\n",
      "OrderedDict([('alpha', 0.9), ('beta', 0.1), ('gamma', 0.9)]) -8.02\n",
      "OrderedDict([('alpha', 0.9), ('beta', 0.30000000000000004), ('gamma', 0.1)]) -8.32\n"
     ]
    },
    {
     "name": "stdout",
     "output_type": "stream",
     "text": [
      "OrderedDict([('alpha', 0.9), ('beta', 0.30000000000000004), ('gamma', 0.30000000000000004)]) -8.22\n",
      "OrderedDict([('alpha', 0.9), ('beta', 0.30000000000000004), ('gamma', 0.5)]) -7.86\n",
      "OrderedDict([('alpha', 0.9), ('beta', 0.30000000000000004), ('gamma', 0.7000000000000001)]) -8.28\n",
      "OrderedDict([('alpha', 0.9), ('beta', 0.30000000000000004), ('gamma', 0.9)]) -7.9\n",
      "OrderedDict([('alpha', 0.9), ('beta', 0.5), ('gamma', 0.1)]) -7.96\n",
      "OrderedDict([('alpha', 0.9), ('beta', 0.5), ('gamma', 0.30000000000000004)]) -8.54\n",
      "OrderedDict([('alpha', 0.9), ('beta', 0.5), ('gamma', 0.5)]) -8.28\n",
      "OrderedDict([('alpha', 0.9), ('beta', 0.5), ('gamma', 0.7000000000000001)]) -8.14\n",
      "OrderedDict([('alpha', 0.9), ('beta', 0.5), ('gamma', 0.9)]) -8.22\n",
      "OrderedDict([('alpha', 0.9), ('beta', 0.7000000000000001), ('gamma', 0.1)]) -8.1\n",
      "OrderedDict([('alpha', 0.9), ('beta', 0.7000000000000001), ('gamma', 0.30000000000000004)]) -8.04\n",
      "OrderedDict([('alpha', 0.9), ('beta', 0.7000000000000001), ('gamma', 0.5)]) -8.42\n",
      "OrderedDict([('alpha', 0.9), ('beta', 0.7000000000000001), ('gamma', 0.7000000000000001)]) -8.56\n",
      "OrderedDict([('alpha', 0.9), ('beta', 0.7000000000000001), ('gamma', 0.9)]) -8.34\n",
      "OrderedDict([('alpha', 0.9), ('beta', 0.9), ('gamma', 0.1)]) -8.42\n",
      "OrderedDict([('alpha', 0.9), ('beta', 0.9), ('gamma', 0.30000000000000004)]) -8.04\n",
      "OrderedDict([('alpha', 0.9), ('beta', 0.9), ('gamma', 0.5)]) -8.04\n",
      "OrderedDict([('alpha', 0.9), ('beta', 0.9), ('gamma', 0.7000000000000001)]) -7.86\n",
      "OrderedDict([('alpha', 0.9), ('beta', 0.9), ('gamma', 0.9)]) -8.16\n"
     ]
    }
   ],
   "source": [
    "resolver = cirq.ParamResolver({'alpha': 0.1, 'beta': 0.3, 'gamma': 0.7})\n",
    "resolved_circuit = cirq.resolve_parameters(circuit, resolver)\n",
    "\n",
    "sweep = (cirq.Linspace(key='alpha', start=0.1, stop=0.9, length=5)\n",
    "         * cirq.Linspace(key='beta', start=0.1, stop=0.9, length=5)\n",
    "         * cirq.Linspace(key='gamma', start=0.1, stop=0.9, length=5))\n",
    "results = simulator.run_sweep(circuit, params=sweep, repetitions=100)\n",
    "for result in results:\n",
    "    print(result.params.param_dict, obj_func(result))"
   ]
  },
  {
   "cell_type": "code",
   "execution_count": 39,
   "metadata": {},
   "outputs": [
    {
     "name": "stdout",
     "output_type": "stream",
     "text": [
      "Minimum objective value is -9.0.\n"
     ]
    }
   ],
   "source": [
    "sweep_size = 10\n",
    "sweep = (cirq.Linspace(key='alpha', start=0.0, stop=1.0, length=10)\n",
    "         * cirq.Linspace(key='beta', start=0.0, stop=1.0, length=10)\n",
    "         * cirq.Linspace(key='gamma', start=0.0, stop=1.0, length=10))\n",
    "results = simulator.run_sweep(circuit, params=sweep, repetitions=100)\n",
    "\n",
    "min = None\n",
    "min_params = None\n",
    "for result in results:\n",
    "    value = obj_func(result)\n",
    "    if min is None or value < min:\n",
    "        min = value\n",
    "        min_params = result.params\n",
    "print('Minimum objective value is {}.'.format(min))"
   ]
  }
 ],
 "metadata": {
  "kernelspec": {
   "display_name": "Python 3",
   "language": "python",
   "name": "python3"
  },
  "language_info": {
   "codemirror_mode": {
    "name": "ipython",
    "version": 3
   },
   "file_extension": ".py",
   "mimetype": "text/x-python",
   "name": "python",
   "nbconvert_exporter": "python",
   "pygments_lexer": "ipython3",
   "version": "3.7.3"
  }
 },
 "nbformat": 4,
 "nbformat_minor": 2
}
