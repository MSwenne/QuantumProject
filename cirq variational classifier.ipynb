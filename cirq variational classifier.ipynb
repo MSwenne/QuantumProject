{
 "cells": [
  {
   "cell_type": "code",
   "execution_count": 272,
   "metadata": {},
   "outputs": [],
   "source": [
    "import cirq\n",
    "import numpy as np\n",
    "import random\n",
    "import sympy\n",
    "from math import pi\n",
    "%matplotlib inline\n",
    "\n",
    "np.random.seed(42)"
   ]
  },
  {
   "cell_type": "code",
   "execution_count": 441,
   "metadata": {},
   "outputs": [],
   "source": [
    "def U_phi(q, W):\n",
    "    for i in range(len(q)):\n",
    "        rot = cirq.ZPowGate(exponent=W[i])\n",
    "        yield rot(q[i])\n",
    "    for i in range(len(q)):\n",
    "        if i < len(q)-1:\n",
    "            rot = cirq.ZPowGate(exponent=(pi-W[i])*(pi-W[i+1]))\n",
    "            yield rot.on(q[i+1]).controlled_by(q[i])\n",
    "        else:\n",
    "            rot = cirq.ZPowGate(exponent=(pi-W[i])*(pi-W[0]))\n",
    "            yield rot.on(q[0]).controlled_by(q[i])\n",
    "            \n",
    "def fancy_U(q, W):\n",
    "    for i in range(len(q)):\n",
    "        yield cirq.H(q[i])\n",
    "    yield U_phi(q, W)\n",
    "    for i in range(len(q)):\n",
    "        yield cirq.H(q[i])\n",
    "    yield U_phi(q, W)\n",
    "\n",
    "def W_theta(q, theta):\n",
    "    for i in range(len(q)):\n",
    "        if i < len(q)-1:\n",
    "            yield cirq.SWAP.on(q[i+1],q[i])\n",
    "        else:\n",
    "            yield cirq.SWAP.on(q[0],q[i])\n",
    "    for i in range(len(q)):\n",
    "        rot = cirq.ZPowGate(exponent=theta[i])\n",
    "        yield rot(q[i])\n",
    "\n",
    "def measure(q):\n",
    "    for i in range(len(q)):\n",
    "        yield cirq.measure(q[i], key=str(i))"
   ]
  },
  {
   "cell_type": "code",
   "execution_count": 379,
   "metadata": {},
   "outputs": [],
   "source": [
    "def circuit(q, W, theta):\n",
    "    yield fancy_U(q, W)\n",
    "    for i in range(len(theta)):\n",
    "        if i == 0:\n",
    "            for j in range(len(q)):\n",
    "                rot = cirq.ZPowGate(exponent=theta[i][j])\n",
    "                yield rot(q[j])\n",
    "        else:\n",
    "            yield W_theta(q, theta[i])\n",
    "    yield measure(q)"
   ]
  },
  {
   "cell_type": "code",
   "execution_count": 449,
   "metadata": {
    "scrolled": true
   },
   "outputs": [
    {
     "name": "stdout",
     "output_type": "stream",
     "text": [
      "true: 0.0 predict: 0 equal: True\n",
      "true: 1.0 predict: 0 equal: False\n",
      "true: 1.0 predict: 0 equal: False\n",
      "true: 0.0 predict: 1 equal: False\n",
      "true: 1.0 predict: 1 equal: True\n",
      "true: 0.0 predict: 0 equal: True\n",
      "true: 0.0 predict: 1 equal: False\n",
      "true: 1.0 predict: 0 equal: False\n",
      "true: 1.0 predict: 0 equal: False\n",
      "true: 0.0 predict: 1 equal: False\n",
      "true: 0.0 predict: 1 equal: False\n",
      "true: 1.0 predict: 0 equal: False\n",
      "true: 0.0 predict: 0 equal: True\n",
      "true: 1.0 predict: 1 equal: True\n",
      "true: 1.0 predict: 1 equal: True\n",
      "true: 0.0 predict: 0 equal: True\n",
      "accuracy: 0.4375\n"
     ]
    }
   ],
   "source": [
    "nr_qubits = 4\n",
    "nr_layers = 1\n",
    "batch_size = 5\n",
    "repititions = 100\n",
    "\n",
    "#Set up input and output qubits.\n",
    "qubits = [cirq.GridQubit(i, 0) for i in range(nr_qubits)]\n",
    "\n",
    "data = np.loadtxt(\"./parity.txt\")\n",
    "X = data[:, :-1]\n",
    "Y = data[:, -1]\n",
    "\n",
    "init_rot = [np.random.randn(nr_qubits) for i in range(nr_layers+1)]\n",
    "\n",
    "simulator = cirq.Simulator()\n",
    "acc = 0\n",
    "\n",
    "for i in range(len(X)):\n",
    "    c = cirq.Circuit()\n",
    "    c.append(circuit(qubits, X[i], init_rot))\n",
    "    results = simulator.run(c)#, repetitions)\n",
    "    count = 0\n",
    "    for j in range(nr_qubits):\n",
    "        count = count + results.histogram(key=str(j))[0]\n",
    "    print(\"true:\",Y[i],\"predict:\",count%2,\"equal:\",(Y[i]==count%2))\n",
    "    acc = acc + int(Y[i]==count%2)\n",
    "print(\"accuracy:\",acc/len(X))\n",
    "# print('Circuit:')\n",
    "# print(c)"
   ]
  },
  {
   "cell_type": "code",
   "execution_count": 429,
   "metadata": {},
   "outputs": [],
   "source": [
    "# def rot_x_layer(length, half_turns):\n",
    "#     \"\"\"Yields X rotations by half_turns on a square grid of given length.\"\"\"\n",
    "#     rot1 = cirq.ZPowGate(exponent=half_turns)\n",
    "#     rot2 = cirq.XPowGate(exponent=half_turns)\n",
    "#     rot3 = cirq.ZPowGate(exponent=half_turns)\n",
    "#     for i in range(length):\n",
    "#         for j in range(length):\n",
    "#             yield rot(cirq.GridQubit(i, j))\n",
    "\n",
    "# circuit = cirq.Circuit()\n",
    "# circuit.append(rot_x_layer(2, 0.1))\n",
    "# print(circuit)"
   ]
  },
  {
   "cell_type": "code",
   "execution_count": 432,
   "metadata": {},
   "outputs": [],
   "source": [
    "# def rand2d(rows, cols):\n",
    "#     return [[random.choice([+1, -1]) for _ in range(cols)] for _ in range(rows)]\n",
    "\n",
    "# def random_instance(length):\n",
    "#     # transverse field terms\n",
    "#     h = rand2d(length, length)\n",
    "#     # links within a row\n",
    "#     jr = rand2d(length - 1, length)\n",
    "#     # links within a column\n",
    "#     jc = rand2d(length, length - 1)\n",
    "#     return (h, jr, jc)\n",
    "\n",
    "# h, jr, jc = random_instance(3)\n",
    "# print('transverse fields: {}'.format(h))\n",
    "# print('row j fields: {}'.format(jr))\n",
    "# print('column j fields: {}'.format(jc))"
   ]
  },
  {
   "cell_type": "code",
   "execution_count": 433,
   "metadata": {},
   "outputs": [],
   "source": [
    "# def rot_z_layer(h, half_turns):\n",
    "#     \"\"\"Yields Z rotations by half_turns conditioned on the field h.\"\"\"\n",
    "#     gate = cirq.ZPowGate(exponent=half_turns)\n",
    "#     for i, h_row in enumerate(h):\n",
    "#         for j, h_ij in enumerate(h_row):\n",
    "#             if h_ij == 1:\n",
    "#                 yield gate(cirq.GridQubit(i, j))\n",
    "\n",
    "# def rot_11_layer(jr, jc, half_turns):\n",
    "#     \"\"\"Yields rotations about |11> conditioned on the jr and jc fields.\"\"\"\n",
    "#     gate = cirq.CZPowGate(exponent=half_turns)    \n",
    "#     for i, jr_row in enumerate(jr):\n",
    "#         for j, jr_ij in enumerate(jr_row):\n",
    "#             if jr_ij == -1:\n",
    "#                 yield cirq.X(cirq.GridQubit(i, j))\n",
    "#                 yield cirq.X(cirq.GridQubit(i + 1, j))\n",
    "#             yield gate(cirq.GridQubit(i, j),\n",
    "#                        cirq.GridQubit(i + 1, j))\n",
    "#             if jr_ij == -1:\n",
    "#                 yield cirq.X(cirq.GridQubit(i, j))\n",
    "#                 yield cirq.X(cirq.GridQubit(i + 1, j))\n",
    "\n",
    "#     for i, jc_row in enumerate(jc):\n",
    "#         for j, jc_ij in enumerate(jc_row):\n",
    "#             if jc_ij == -1:\n",
    "#                 yield cirq.X(cirq.GridQubit(i, j))\n",
    "#                 yield cirq.X(cirq.GridQubit(i, j + 1))\n",
    "#             yield gate(cirq.GridQubit(i, j),\n",
    "#                        cirq.GridQubit(i, j + 1))\n",
    "#             if jc_ij == -1:\n",
    "#                 yield cirq.X(cirq.GridQubit(i, j))\n",
    "#                 yield cirq.X(cirq.GridQubit(i, j + 1))\n",
    "                \n",
    "# def one_step(h, jr, jc, x_half_turns, h_half_turns, j_half_turns):\n",
    "#     length = len(h)\n",
    "#     yield rot_x_layer(length, x_half_turns)\n",
    "#     yield rot_z_layer(h, h_half_turns)\n",
    "#     yield rot_11_layer(jr, jc, j_half_turns)"
   ]
  },
  {
   "cell_type": "code",
   "execution_count": 434,
   "metadata": {},
   "outputs": [],
   "source": [
    "# h, jr, jc = random_instance(3)\n",
    "\n",
    "# circuit = cirq.Circuit()    \n",
    "# circuit.append(one_step(h, jr, jc, 0.1, 0.2, 0.3),\n",
    "#                strategy=cirq.InsertStrategy.EARLIEST)\n",
    "# print(circuit)"
   ]
  },
  {
   "cell_type": "code",
   "execution_count": 435,
   "metadata": {},
   "outputs": [],
   "source": [
    "# simulator = cirq.Simulator()\n",
    "# circuit = cirq.Circuit()    \n",
    "# circuit.append(one_step(h, jr, jc, 0.1, 0.2, 0.3))\n",
    "# circuit.append(cirq.measure(*qubits, key='x'))\n",
    "# results = simulator.run(circuit, repetitions=100)\n",
    "# print(results.histogram(key='x'))"
   ]
  },
  {
   "cell_type": "code",
   "execution_count": 436,
   "metadata": {},
   "outputs": [],
   "source": [
    "# def energy_func(length, h, jr, jc):\n",
    "#     def energy(measurements):\n",
    "#         # Reshape measurement into array that matches grid shape.\n",
    "#         meas_list_of_lists = [measurements[i * length:(i + 1) * length]\n",
    "#                               for i in range(length)]\n",
    "#         # Convert true/false to +1/-1.\n",
    "#         pm_meas = 1 - 2 * np.array(meas_list_of_lists).astype(np.int32)\n",
    "\n",
    "#         tot_energy = np.sum(pm_meas * h)\n",
    "#         for i, jr_row in enumerate(jr):\n",
    "#             for j, jr_ij in enumerate(jr_row):\n",
    "#                 tot_energy += jr_ij * pm_meas[i, j] * pm_meas[i + 1, j]\n",
    "#         for i, jc_row in enumerate(jc):\n",
    "#             for j, jc_ij in enumerate(jc_row):\n",
    "#                 tot_energy += jc_ij * pm_meas[i, j] * pm_meas[i, j + 1]\n",
    "#         return tot_energy\n",
    "#     return energy\n",
    "# print(results.histogram(key='x', fold_func=energy_func(3, h, jr, jc)))"
   ]
  },
  {
   "cell_type": "code",
   "execution_count": 437,
   "metadata": {},
   "outputs": [],
   "source": [
    "# def obj_func(result):\n",
    "#     energy_hist = result.histogram(key='x', fold_func=energy_func(3, h, jr, jc))\n",
    "#     return np.sum([k * v for k,v in energy_hist.items()]) / result.repetitions\n",
    "# print('Value of the objective function {}'.format(obj_func(results)))"
   ]
  },
  {
   "cell_type": "code",
   "execution_count": 438,
   "metadata": {},
   "outputs": [],
   "source": [
    "# circuit = cirq.Circuit()\n",
    "# alpha = sympy.Symbol('alpha')\n",
    "# beta = sympy.Symbol('beta')\n",
    "# gamma = sympy.Symbol('gamma')\n",
    "# circuit.append(one_step(h, jr, jc, alpha, beta, gamma))\n",
    "# circuit.append(cirq.measure(*qubits, key='x'))\n",
    "# print(circuit)"
   ]
  },
  {
   "cell_type": "code",
   "execution_count": 439,
   "metadata": {},
   "outputs": [],
   "source": [
    "# resolver = cirq.ParamResolver({'alpha': 0.1, 'beta': 0.3, 'gamma': 0.7})\n",
    "# resolved_circuit = cirq.resolve_parameters(circuit, resolver)\n",
    "\n",
    "# sweep = (cirq.Linspace(key='alpha', start=0.1, stop=0.9, length=5)\n",
    "#          * cirq.Linspace(key='beta', start=0.1, stop=0.9, length=5)\n",
    "#          * cirq.Linspace(key='gamma', start=0.1, stop=0.9, length=5))\n",
    "# results = simulator.run_sweep(circuit, params=sweep, repetitions=100)\n",
    "# for result in results:\n",
    "#     print(result.params.param_dict, obj_func(result))"
   ]
  },
  {
   "cell_type": "code",
   "execution_count": 440,
   "metadata": {},
   "outputs": [],
   "source": [
    "# sweep_size = 10\n",
    "# sweep = (cirq.Linspace(key='alpha', start=0.0, stop=1.0, length=10)\n",
    "#          * cirq.Linspace(key='beta', start=0.0, stop=1.0, length=10)\n",
    "#          * cirq.Linspace(key='gamma', start=0.0, stop=1.0, length=10))\n",
    "# results = simulator.run_sweep(circuit, params=sweep, repetitions=100)\n",
    "\n",
    "# min = None\n",
    "# min_params = None\n",
    "# for result in results:\n",
    "#     value = obj_func(result)\n",
    "#     if min is None or value < min:\n",
    "#         min = value\n",
    "#         min_params = result.params\n",
    "# print('Minimum objective value is {}.'.format(min))"
   ]
  }
 ],
 "metadata": {
  "kernelspec": {
   "display_name": "Python 3",
   "language": "python",
   "name": "python3"
  },
  "language_info": {
   "codemirror_mode": {
    "name": "ipython",
    "version": 3
   },
   "file_extension": ".py",
   "mimetype": "text/x-python",
   "name": "python",
   "nbconvert_exporter": "python",
   "pygments_lexer": "ipython3",
   "version": "3.7.3"
  }
 },
 "nbformat": 4,
 "nbformat_minor": 2
}
